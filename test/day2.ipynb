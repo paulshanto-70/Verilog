{
 "cells": [
  {
   "cell_type": "code",
   "execution_count": 1,
   "metadata": {},
   "outputs": [
    {
     "name": "stdout",
     "output_type": "stream",
     "text": [
      "4000.0\n"
     ]
    }
   ],
   "source": [
    "p=int(input(\"enter principal amount\"))\n",
    "r=int(input(\"enter rate of interest \"))\n",
    "t=int(input(\"enter timee period\"))\n",
    "si=(p*r*t)/100\n",
    "print(si)"
   ]
  },
  {
   "cell_type": "code",
   "execution_count": 5,
   "metadata": {},
   "outputs": [
    {
     "name": "stdout",
     "output_type": "stream",
     "text": [
      "number is divisible by both 3 and 6\n"
     ]
    }
   ],
   "source": [
    "n=int(input(\"enter number\"))\n",
    "if(n%3==0 and n%6==0 ):\n",
    "    print(\"number is divisible by both 3 and 6\")\n",
    "else:\n",
    "    print(\"number is  not divisible by both 3 and 6\")"
   ]
  },
  {
   "cell_type": "code",
   "execution_count": 8,
   "metadata": {},
   "outputs": [
    {
     "name": "stdout",
     "output_type": "stream",
     "text": [
      "b is greater \n"
     ]
    }
   ],
   "source": [
    "a=int(input(\"enter number\"))\n",
    "b=int(input(\"enter number\"))\n",
    "c=int(input(\"enter number\"))\n",
    "large=a\n",
    "if(a>b and a>c):\n",
    "    print(\"a is greater\")\n",
    "elif(b>a and b>c):\n",
    "    print(\"b is greater \")\n",
    "elif(c>a and c>b):\n",
    "    print(\"c is greater\")\n"
   ]
  },
  {
   "cell_type": "code",
   "execution_count": 11,
   "metadata": {},
   "outputs": [
    {
     "name": "stdout",
     "output_type": "stream",
     "text": [
      "quotient of a and b =  2.0\n"
     ]
    }
   ],
   "source": [
    "a=int(input(\"enter number\"))\n",
    "b=int(input(\"enter number\"))\n",
    "oper=input(\"Enter operation\")\n",
    "if(oper==\"+\"):\n",
    "    print(\"sum of a and b = \",a+b)\n",
    "elif(oper==\"-\"):\n",
    "    print(\"difference of a and b = \",a-b)  \n",
    "elif(oper==\"*\"):\n",
    "    print(\"product of a and b = \",a*b)\n",
    "elif(oper==\"/\"):\n",
    "    print(\"quotient of a and b = \",a/b) \n",
    " \n",
    " \n"
   ]
  },
  {
   "cell_type": "code",
   "execution_count": null,
   "metadata": {},
   "outputs": [
    {
     "name": "stdout",
     "output_type": "stream",
     "text": [
      "scalene triangle\n"
     ]
    }
   ],
   "source": [
    "a=int(input(\"enter length of triangle\"))\n",
    "b=int(input(\"enter length of triangle\"))\n",
    "c=int(input(\"enter length of triangle\"))\n",
    "if(a==b and b==c):\n",
    "    print(\"equilateral triangle\")\n",
    "elif(a==b or a==c or c==b):\n",
    "    print(\"isosceles triangle\")\n",
    "else:\n",
    "    print(\"scalene triangle\")"
   ]
  },
  {
   "cell_type": "code",
   "execution_count": 5,
   "metadata": {},
   "outputs": [
    {
     "name": "stdout",
     "output_type": "stream",
     "text": [
      "0b101\n",
      "0b101\n",
      "and operation between a and b = 0b101\n",
      "OR operation betwenn a and b=  0b101\n",
      "not operation   a=  -0b110\n",
      "xor operation betwenn a and b=  0b0\n"
     ]
    }
   ],
   "source": [
    "a=(int(input(\"enter value\")))\n",
    "b=(int(input(\"enter value\")))\n",
    "print(bin(a))\n",
    "print(bin(b))\n",
    "print(\"and operation between a and b =\" ,bin(a&b))\n",
    "print(\"OR operation betwenn a and b= \",bin(a|b))\n",
    "print(\"not operation   a= \",bin(~a))\n",
    "print(\"xor operation betwenn a and b= \",bin(a^b))"
   ]
  },
  {
   "cell_type": "code",
   "execution_count": null,
   "metadata": {},
   "outputs": [],
   "source": []
  },
  {
   "cell_type": "markdown",
   "metadata": {},
   "source": [
    "identity operator\n",
    "a=10\n",
    "b=10\n",
    "a is b\n",
    "returns True\n",
    "it shares same location\n",
    "applicable for value -5 to 256\n"
   ]
  },
  {
   "cell_type": "code",
   "execution_count": 15,
   "metadata": {},
   "outputs": [
    {
     "name": "stdout",
     "output_type": "stream",
     "text": [
      "3628800\n"
     ]
    }
   ],
   "source": [
    "n=int(input(\"enter number\"))\n",
    "i=1\n",
    "fact=1\n",
    "while(i<=n):\n",
    "    fact*=i\n",
    "    i+=1\n",
    "print(fact)"
   ]
  },
  {
   "cell_type": "code",
   "execution_count": 11,
   "metadata": {},
   "outputs": [
    {
     "name": "stdout",
     "output_type": "stream",
     "text": [
      "15\n"
     ]
    }
   ],
   "source": [
    "n=int(input(\"enter number\"))\n",
    "sum=0\n",
    "i=1\n",
    "while(i<=n):\n",
    "    sum+=i\n",
    "    i+=1\n",
    "print(sum)"
   ]
  },
  {
   "cell_type": "code",
   "execution_count": 14,
   "metadata": {},
   "outputs": [
    {
     "name": "stdout",
     "output_type": "stream",
     "text": [
      "4\n"
     ]
    }
   ],
   "source": [
    "n=int(input(\"enter number\"))\n",
    "i=0\n",
    "while(n>0):\n",
    "    i+=1\n",
    "    n//=10\n",
    "print(i)"
   ]
  },
  {
   "cell_type": "code",
   "execution_count": 18,
   "metadata": {},
   "outputs": [
    {
     "name": "stdout",
     "output_type": "stream",
     "text": [
      "9\n"
     ]
    }
   ],
   "source": [
    "n=int(input(\"enter number\"))\n",
    "large=0\n",
    "while(n>0):\n",
    "    if(large<n%10):\n",
    "        large=n%10\n",
    "    n//=10\n",
    "print(large)\n",
    "\n",
    "\n",
    "\n",
    "\n",
    "\n",
    "\n"
   ]
  }
 ],
 "metadata": {
  "kernelspec": {
   "display_name": "Python 3",
   "language": "python",
   "name": "python3"
  },
  "language_info": {
   "codemirror_mode": {
    "name": "ipython",
    "version": 3
   },
   "file_extension": ".py",
   "mimetype": "text/x-python",
   "name": "python",
   "nbconvert_exporter": "python",
   "pygments_lexer": "ipython3",
   "version": "3.13.1"
  }
 },
 "nbformat": 4,
 "nbformat_minor": 2
}
